{
 "cells": [
  {
   "cell_type": "markdown",
   "id": "cdfae101-70c9-4b47-a9fe-c10bd4b55e93",
   "metadata": {},
   "source": [
    "# Dependencias"
   ]
  },
  {
   "cell_type": "code",
   "execution_count": null,
   "id": "1e560751-5b05-4f1c-84fd-e5b3a67bcde8",
   "metadata": {},
   "outputs": [],
   "source": [
    "Package            Version\n",
    "------------------ -----------\n",
    "certifi            2024.6.2\n",
    "cffi               1.16.0\n",
    "charset-normalizer 3.3.2\n",
    "contourpy          1.2.1\n",
    "cycler             0.12.1\n",
    "fonttools          4.53.0\n",
    "freetype-py        2.4.0\n",
    "idna               3.7\n",
    "imageio            2.34.1\n",
    "kiwisolver         1.4.5\n",
    "mathutils          3.3.0\n",
    "matplotlib         3.9.0\n",
    "networkx           3.3\n",
    "numpy              2.0.0\n",
    "opencv-python      4.10.0.84\n",
    "packaging          24.1\n",
    "pillow             10.3.0\n",
    "pip                22.0.2\n",
    "PyAudio            0.2.14\n",
    "pycparser          2.22\n",
    "pygame             2.5.2\n",
    "pyglet             2.0.15\n",
    "PyOpenGL           3.1.0\n",
    "pyparsing          3.1.2\n",
    "pyrender           0.1.45\n",
    "python-dateutil    2.9.0.post0\n",
    "requests           2.32.3\n",
    "scipy              1.13.1\n",
    "setuptools         59.6.0\n",
    "six                1.16.0\n",
    "sounddevice        0.4.7\n",
    "SpeechRecognition  3.10.4\n",
    "trimesh            4.4.1\n",
    "typing_extensions  4.12.2\n",
    "urllib3            2.2.2"
   ]
  },
  {
   "cell_type": "markdown",
   "id": "55437046-f755-41ff-8760-12e27d5d4332",
   "metadata": {},
   "source": [
    "He creado un entorno virtual e instalado todos los paquetes necesarios hasta la ejecución del proyecto.\n",
    "\n",
    "No se ha añadido ninguna configuración para la cámara adicional de droidcam."
   ]
  },
  {
   "cell_type": "code",
   "execution_count": null,
   "id": "31aa7b64-90dd-4a4c-98bc-e1db4bbdfc64",
   "metadata": {},
   "outputs": [],
   "source": []
  }
 ],
 "metadata": {
  "kernelspec": {
   "display_name": "Python 3 (ipykernel)",
   "language": "python",
   "name": "python3"
  },
  "language_info": {
   "codemirror_mode": {
    "name": "ipython",
    "version": 3
   },
   "file_extension": ".py",
   "mimetype": "text/x-python",
   "name": "python",
   "nbconvert_exporter": "python",
   "pygments_lexer": "ipython3",
   "version": "3.10.12"
  }
 },
 "nbformat": 4,
 "nbformat_minor": 5
}
