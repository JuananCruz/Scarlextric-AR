{
 "cells": [
  {
   "cell_type": "markdown",
   "id": "a5dac1ae-58be-46d3-9b36-7b474657c7e3",
   "metadata": {},
   "source": [
    "# Documentacion Proyecto Final - Juan Antonio Cruz Escobar"
   ]
  },
  {
   "cell_type": "markdown",
   "id": "b9fec9a4-ff4a-4017-89c0-898e241a0ceb",
   "metadata": {},
   "source": [
    "## Decisiones tomadas para superar el proyecto"
   ]
  },
  {
   "cell_type": "markdown",
   "id": "8b4063bd-f02b-4942-b379-ee719d9ffbce",
   "metadata": {},
   "source": [
    "Para la correcta realización del proyecto han sido muy útiles los códigos para la calibración de cámaras y el renderizado de modelos 3D.\n",
    "\n",
    "Mi proyecto consiste en la realización de un videojuego."
   ]
  },
  {
   "cell_type": "markdown",
   "id": "2d31a2aa-98b4-4293-a243-4240ab799976",
   "metadata": {},
   "source": [
    "El juego será de \"coches\", en el cual usando un marcador se realizará el renderizado de un circuito y de un coche.\n",
    "\n",
    "Comencé usando un modelo 3D tanto para el coche como para el circuito, pero pensando en la implementación, tan solo dejé el modelo 3D del coche."
   ]
  },
  {
   "cell_type": "markdown",
   "id": "1921dd23-b7fd-4e24-9d9d-c646737ec6eb",
   "metadata": {},
   "source": [
    "El circuito será una matriz de 0 y 1. Usando numpy se crea la matriz de 0 y se asignan 1 según la distribucion del circuito.\n",
    "\n",
    "En mi caso, vamos a usar funciones propias de numpy. El primer mapa será un círculo y el segundo un mapa con una distribución de doble O."
   ]
  },
  {
   "cell_type": "markdown",
   "id": "a7d6ff0c-447b-4f43-b730-4f0ccbafc223",
   "metadata": {},
   "source": [
    "El movimiento del coche se hará de forma automática, para así fomentar la no interacción del usuario y el computador.\n",
    "\n",
    "El giro del mismo si se realizara por el usuario, para ello debemos de usar otro marcador, por lo que para la realización de nuestro proyecto necesitamos:\n",
    "\n",
    "    -El tablero de calibración para las cámaras.\n",
    "    \n",
    "    -Marcador para el renderizado del circuito y del coche.\n",
    "    \n",
    "    -Marcador para el giro del coche (volante)."
   ]
  },
  {
   "cell_type": "markdown",
   "id": "d32cf351-8b04-4dd5-96ed-b29b622ac2b9",
   "metadata": {},
   "source": [
    "Para el correcto funcionamiento del proyecto necesitamos, por tanto, dos cámaras.\n",
    "\n",
    "He usado droidcam para conectar el ordenador con mi teléfono móvil, de esta forma, en nuestro código podemos acceder a 2 dispositivos como si estuviesen en nuestro ordenador localmente.\n",
    "\n",
    "Una vez tenemos la realidad aumentada implementada, para cumplir con el objetivo de consciencia de contexto, vamos a hacer que, dependiendo de la hora del sistema, el renderizado del coche y la iluminación serán diferentes:\n",
    "\n",
    "    -8 AM-14 PM: El coche que se renderizará será un Aston Martin y la iluminación será brillante.\n",
    "    - Resto de horas: El coche renderizado será un Red-Bull y la iluminación será más oscura."
   ]
  },
  {
   "cell_type": "markdown",
   "id": "c36f67ff-2af9-4224-a917-c4206ba89a0d",
   "metadata": {},
   "source": [
    "Para el reconocimiento de voz vamos a usar SpeechRecognition.\n",
    "\n",
    "Hemos hecho que se reconozcan varios comandos de voz:\n",
    "\n",
    "    -empezar: Será el comando encargado de que el coche empiece a moverse. Implica también el momento en el que se inicia el tiempo de vuelta.\n",
    "    -detener: Se detendrá el movimiento del coche automático.\n",
    "    -acelerar: Aumenta la velocidad del coche.\n",
    "    -frenar: Disminuye la velocidad del coche.\n",
    "    -reiniciar: Cuando se pierden todas las vidas, reinicia las mismas para que se pueda volver a jugar sin necesidad de reiniciar el programa.\n",
    "    -nivel 1: Renderiza el circuito 1\n",
    "    -nivel 2: Renderiza el circuito 2"
   ]
  }
 ],
 "metadata": {
  "kernelspec": {
   "display_name": "Python 3 (ipykernel)",
   "language": "python",
   "name": "python3"
  },
  "language_info": {
   "codemirror_mode": {
    "name": "ipython",
    "version": 3
   },
   "file_extension": ".py",
   "mimetype": "text/x-python",
   "name": "python",
   "nbconvert_exporter": "python",
   "pygments_lexer": "ipython3",
   "version": "3.10.12"
  }
 },
 "nbformat": 4,
 "nbformat_minor": 5
}
